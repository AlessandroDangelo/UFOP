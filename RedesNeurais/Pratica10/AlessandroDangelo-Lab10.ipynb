{
  "nbformat": 4,
  "nbformat_minor": 0,
  "metadata": {
    "accelerator": "GPU",
    "colab": {
      "provenance": []
    },
    "kernelspec": {
      "display_name": "Python 3",
      "name": "python3"
    }
  },
  "cells": [
    {
      "cell_type": "markdown",
      "metadata": {
        "id": "Ndo4ERqnwQOU"
      },
      "source": [
        "# Lab 9 - PCC177/BCC406\n",
        "\n",
        "## REDES NEURAIS E APRENDIZAGEM EM PROFUNDIDADE\n",
        "\n",
        "## NLP\n",
        "\n",
        "### Prof. Eduardo e Prof. Pedro\n",
        "\n",
        "Objetivos:\n",
        "\n",
        "- Implementar técncias de PLN para resolver um problema de classificação de texto tóxico em portugues.\n",
        "- Utilizar *Word2Vec* e *BERT*.\n",
        "\n",
        "Data da entrega : Fim do período\n",
        "\n",
        "- Complete o código (marcado com ToDo) e quando requisitado, escreva textos diretamente nos notebooks. Onde tiver *None*, substitua pelo seu código.\n",
        "- Execute todo notebook e salve tudo em um PDF **nomeado** como \"NomeSobrenome-Lab.pdf\"\n",
        "- Envie o PDF via google [FORM](https://forms.gle/eJf6nX7fwuV18Map7)\n",
        "\n",
        "Este notebook é baseado em tensorflow e Keras.\n",
        "\n",
        "Links de tutoriais úteis:\n",
        " - https://jalammar.github.io/illustrated-word2vec/\n",
        " - https://jalammar.github.io/illustrated-gpt2/\n",
        " - https://jalammar.github.io/illustrated-bert/\n",
        " - https://huggingface.co/neuralmind/bert-base-portuguese-cased\n",
        " - https://github.com/neuralmind-ai/portuguese-bert\n",
        " - https://huggingface.co/models?other=word2vec\n",
        " - https://huggingface.co/fse/word2vec-google-news-300\n",
        " - https://huggingface.co/docs/transformers/main_classes/pipelines\n",
        " - https://huggingface.co/docs/transformers/v4.18.0/en/autoclass_tutorial\n",
        " - https://huggingface.co/docs/transformers/tasks/sequence_classification"
      ]
    },
    {
      "cell_type": "markdown",
      "metadata": {
        "id": "xfNT-mlFwxVM"
      },
      "source": [
        "# Importando bibliotecas e preparando o ambiente"
      ]
    },
    {
      "cell_type": "markdown",
      "source": [
        "Importando as bibliotecas"
      ],
      "metadata": {
        "id": "zZUs8DmSrYcH"
      }
    },
    {
      "cell_type": "code",
      "metadata": {
        "id": "YfIk2es3hJEd"
      },
      "source": [
        "import matplotlib.pyplot as plt\n",
        "import numpy as np\n",
        "import pandas as pd\n",
        "import seaborn as sns\n",
        "import tensorflow as tf\n",
        "\n",
        "from sklearn.model_selection import train_test_split\n",
        "from sklearn.preprocessing import LabelEncoder\n",
        "from sklearn.metrics import classification_report, confusion_matrix\n",
        "from tensorflow.keras.preprocessing.text import Tokenizer\n",
        "from tensorflow.keras.preprocessing.sequence import pad_sequences\n",
        "from tensorflow.keras.models import Sequential\n",
        "from tensorflow.keras.layers import Dense, Embedding, Flatten"
      ],
      "execution_count": 1,
      "outputs": []
    },
    {
      "cell_type": "markdown",
      "source": [
        "Montando o seu drive no colab."
      ],
      "metadata": {
        "id": "6zvESPbCrL1w"
      }
    },
    {
      "cell_type": "code",
      "source": [
        "from google.colab import drive\n",
        "drive.mount('/content/drive')"
      ],
      "metadata": {
        "id": "K9s_SDZPrQpi",
        "colab": {
          "base_uri": "https://localhost:8080/"
        },
        "outputId": "0b7937a6-7360-4884-8224-d3ef6c65d3a6"
      },
      "execution_count": 2,
      "outputs": [
        {
          "output_type": "stream",
          "name": "stdout",
          "text": [
            "Mounted at /content/drive\n"
          ]
        }
      ]
    },
    {
      "cell_type": "markdown",
      "source": [
        " Vamos carregar a base de dados \"*Brazilian Portuguese Hatespeech dataset*\". Para detalhes sobre o dataset e o problema em si, veja o [link do Kaggle](https://www.kaggle.com/datasets/hrmello/brazilian-portuguese-hatespeech-dataset/)."
      ],
      "metadata": {
        "id": "eaWCYHH-rUMD"
      }
    },
    {
      "cell_type": "code",
      "source": [
        "# Ler o arquivo CSV hate_speech_binary_classification_train.csv dentro da pasta de dataset do drive compartilhado.\n",
        "# Substitua o 'caminho_do_arquivo_treino.csv' pelo caminho real do seu arquivo CSV\n",
        "dados = pd.read_csv('/content/drive/MyDrive/datasets/hate_speech_binary_classification_train.csv')\n",
        "\n",
        "# Ler o arquivo CSV hate_speech_binary_classification_test.csv dentro da pasta de dataset do drive compartilhado.\n",
        "# Substitua o 'caminho_do_arquivo_teste.csv' pelo caminho real do seu arquivo CSV\n",
        "dados_teste = pd.read_csv('/content/drive/MyDrive/datasets/hate_speech_binary_classification_test.csv')"
      ],
      "metadata": {
        "id": "3d20Co5zrbjT"
      },
      "execution_count": 3,
      "outputs": []
    },
    {
      "cell_type": "markdown",
      "source": [
        "Mostrar as primeiras linhas do DataFrame"
      ],
      "metadata": {
        "id": "glzRZT3brgmT"
      }
    },
    {
      "cell_type": "code",
      "source": [
        "print(dados.head())"
      ],
      "metadata": {
        "id": "BWpYShMqrkEL",
        "colab": {
          "base_uri": "https://localhost:8080/"
        },
        "outputId": "79ce4c57-b2c4-4c1d-ba02-270d46fa9d91"
      },
      "execution_count": 4,
      "outputs": [
        {
          "output_type": "stream",
          "name": "stdout",
          "text": [
            "                                                text  \\\n",
            "0  -Odeio feministas só falam merda\\n-Vamos fazer...   \n",
            "1  CHEGOU DANDO CANTADA NO CARNAVAL:\\n#CarnavalSe...   \n",
            "2  Diferença entre 'manifestante' e 'terrorista'....   \n",
            "3  É legal pra um presidente 'grampear' uma corri...   \n",
            "4  não há como negar a biologia....por mais que a...   \n",
            "\n",
            "                                             protext  class  \n",
            "0  -Odeio feministas só falam merda -Vamos fazer ...      1  \n",
            "1  CHEGOU DANDO CANTADA NO CARNAVAL: #CarnavalSem...      0  \n",
            "2  Diferença entre 'manifestante' e 'terrorista'....      1  \n",
            "3  É legal pra um presidente 'grampear' uma corri...      0  \n",
            "4  não há como negar a biologia....por mais que a...      0  \n"
          ]
        }
      ]
    },
    {
      "cell_type": "markdown",
      "source": [
        "## Pré-processando os dados"
      ],
      "metadata": {
        "id": "639c8YccrspA"
      }
    },
    {
      "cell_type": "markdown",
      "source": [
        "Selecionando colunas específicas"
      ],
      "metadata": {
        "id": "e9sVVCqcry7S"
      }
    },
    {
      "cell_type": "code",
      "source": [
        "dados_brutos = dados.iloc[:, 0]\n",
        "X = dados.iloc[:, 1] # Coluna dos dados pré-processados\n",
        "y = dados.iloc[:, 2] # Coluna dos rótulos\n",
        "\n",
        "X_test = dados_teste.iloc[:, 1]  # Coluna dos dados pré-processados\n",
        "y_test = dados_teste.iloc[:, 2]  # Coluna dos rótulos"
      ],
      "metadata": {
        "id": "hy9ItDlTr3t2"
      },
      "execution_count": 5,
      "outputs": []
    },
    {
      "cell_type": "markdown",
      "source": [
        "Mostrar as primeiras linhas de cada coluna"
      ],
      "metadata": {
        "id": "25ZLJbuer5-p"
      }
    },
    {
      "cell_type": "code",
      "source": [
        "print(\"Dados brutos:\")\n",
        "print(dados_brutos.head())\n",
        "print(\"\\nRótulos:\")\n",
        "print(y.head())\n",
        "print(\"\\nDados preprocessados:\")\n",
        "print(X.head())"
      ],
      "metadata": {
        "id": "kXN3tjeFsBJJ",
        "colab": {
          "base_uri": "https://localhost:8080/"
        },
        "outputId": "2d0bbf90-2779-4f6b-c23f-50d330ceb9bc"
      },
      "execution_count": 6,
      "outputs": [
        {
          "output_type": "stream",
          "name": "stdout",
          "text": [
            "Dados brutos:\n",
            "0    -Odeio feministas só falam merda\\n-Vamos fazer...\n",
            "1    CHEGOU DANDO CANTADA NO CARNAVAL:\\n#CarnavalSe...\n",
            "2    Diferença entre 'manifestante' e 'terrorista'....\n",
            "3    É legal pra um presidente 'grampear' uma corri...\n",
            "4    não há como negar a biologia....por mais que a...\n",
            "Name: text, dtype: object\n",
            "\n",
            "Rótulos:\n",
            "0    1\n",
            "1    0\n",
            "2    1\n",
            "3    0\n",
            "4    0\n",
            "Name: class, dtype: int64\n",
            "\n",
            "Dados preprocessados:\n",
            "0    -Odeio feministas só falam merda -Vamos fazer ...\n",
            "1    CHEGOU DANDO CANTADA NO CARNAVAL: #CarnavalSem...\n",
            "2    Diferença entre 'manifestante' e 'terrorista'....\n",
            "3    É legal pra um presidente 'grampear' uma corri...\n",
            "4    não há como negar a biologia....por mais que a...\n",
            "Name: protext, dtype: object\n"
          ]
        }
      ]
    },
    {
      "cell_type": "markdown",
      "source": [
        "# Uma implementação ingênua para o problema"
      ],
      "metadata": {
        "id": "l-38NPXysQsK"
      }
    },
    {
      "cell_type": "markdown",
      "source": [
        "Abaixo uma implementação ingênua para o problema. Ela é ingênua por que desconsidera a ordem das palavras no texto.\n",
        "Tente endendê-la e execute o treinamento."
      ],
      "metadata": {
        "id": "Q8so71t8sXt5"
      }
    },
    {
      "cell_type": "markdown",
      "source": [
        "### Pré-processamento"
      ],
      "metadata": {
        "id": "S8YLG1rtu5eH"
      }
    },
    {
      "cell_type": "markdown",
      "source": [
        "Primeira coisa é fixar as sementes para garantir a reproducibilidade dos resultados"
      ],
      "metadata": {
        "id": "7Yb9t_e3u5Cx"
      }
    },
    {
      "cell_type": "code",
      "source": [
        "np.random.seed(94)\n",
        "tf.random.set_seed(94)"
      ],
      "metadata": {
        "id": "qNqAjIllsbaR"
      },
      "execution_count": 7,
      "outputs": []
    },
    {
      "cell_type": "markdown",
      "source": [
        "Codificação dos rótulos para 0 e 1"
      ],
      "metadata": {
        "id": "S2HgX714siRi"
      }
    },
    {
      "cell_type": "code",
      "source": [
        "encoder = LabelEncoder()\n",
        "y = encoder.fit_transform(y)\n",
        "y_test = encoder.transform(y_test)"
      ],
      "metadata": {
        "id": "t6-1CCbzs4O3"
      },
      "execution_count": 8,
      "outputs": []
    },
    {
      "cell_type": "markdown",
      "source": [
        "Tokenização e sequenciamento dos textos"
      ],
      "metadata": {
        "id": "7SBhO2mhs6OT"
      }
    },
    {
      "cell_type": "code",
      "source": [
        "max_length = 280  # Define o tamanho máximo das sequências\n",
        "vocab_size = 100000  # Define o tamanho do vocabulário\n",
        "\n",
        "tokenizer = Tokenizer(num_words=vocab_size, oov_token='<OOV>')\n",
        "tokenizer.fit_on_texts(X)\n",
        "# Tokenização e sequenciamento dos textos de treino\n",
        "sequences = tokenizer.texts_to_sequences(X)\n",
        "padded_sequences = pad_sequences(sequences, maxlen=max_length, padding='post', truncating='post')\n",
        "\n",
        "# Tokenização e sequenciamento dos textos de teste\n",
        "sequences_test = tokenizer.texts_to_sequences(X_test)\n",
        "padded_sequences_test = pad_sequences(sequences_test, maxlen=max_length, padding='post', truncating='post')"
      ],
      "metadata": {
        "id": "PFx2hGpbs8Vt"
      },
      "execution_count": 9,
      "outputs": []
    },
    {
      "cell_type": "markdown",
      "source": [
        "Divisão dos dados em conjuntos de treino e validação"
      ],
      "metadata": {
        "id": "bnfGLF3qs_y4"
      }
    },
    {
      "cell_type": "code",
      "source": [
        "X_train, X_val, y_train, y_val = train_test_split(padded_sequences, y, test_size=0.2, random_state=42)"
      ],
      "metadata": {
        "id": "PPR9biautG0k"
      },
      "execution_count": 10,
      "outputs": []
    },
    {
      "cell_type": "markdown",
      "source": [
        "### Aplicando uma estratégia ingênua"
      ],
      "metadata": {
        "id": "JRMzGa_9u9mu"
      }
    },
    {
      "cell_type": "markdown",
      "source": [
        "Definição do modelo"
      ],
      "metadata": {
        "id": "OjPXGGhMtJRD"
      }
    },
    {
      "cell_type": "code",
      "source": [
        "embedding_dim = 16\n",
        "\n",
        "model = Sequential([\n",
        "    Embedding(vocab_size, embedding_dim, input_length=max_length),\n",
        "    Flatten(),\n",
        "    Dense(32, activation='relu'),\n",
        "    Dense(1, activation='sigmoid')\n",
        "])"
      ],
      "metadata": {
        "id": "3V8DAWEUtLVV"
      },
      "execution_count": 11,
      "outputs": []
    },
    {
      "cell_type": "markdown",
      "source": [
        "Compilação do modelo"
      ],
      "metadata": {
        "id": "0aiJRGbStR4i"
      }
    },
    {
      "cell_type": "code",
      "source": [
        "model.compile(loss='binary_crossentropy', optimizer='adam', metrics=['accuracy'])"
      ],
      "metadata": {
        "id": "3nxvlabjtPvz"
      },
      "execution_count": 12,
      "outputs": []
    },
    {
      "cell_type": "markdown",
      "source": [
        "Visualizando os dados"
      ],
      "metadata": {
        "id": "fhmIGfwTtUho"
      }
    },
    {
      "cell_type": "code",
      "source": [
        "model.summary()"
      ],
      "metadata": {
        "id": "KsQpwtwQtV8H",
        "colab": {
          "base_uri": "https://localhost:8080/"
        },
        "outputId": "480ba20d-767f-4b84-b932-1a6709d9dc5a"
      },
      "execution_count": 13,
      "outputs": [
        {
          "output_type": "stream",
          "name": "stdout",
          "text": [
            "Model: \"sequential\"\n",
            "_________________________________________________________________\n",
            " Layer (type)                Output Shape              Param #   \n",
            "=================================================================\n",
            " embedding (Embedding)       (None, 280, 16)           1600000   \n",
            "                                                                 \n",
            " flatten (Flatten)           (None, 4480)              0         \n",
            "                                                                 \n",
            " dense (Dense)               (None, 32)                143392    \n",
            "                                                                 \n",
            " dense_1 (Dense)             (None, 1)                 33        \n",
            "                                                                 \n",
            "=================================================================\n",
            "Total params: 1743425 (6.65 MB)\n",
            "Trainable params: 1743425 (6.65 MB)\n",
            "Non-trainable params: 0 (0.00 Byte)\n",
            "_________________________________________________________________\n"
          ]
        }
      ]
    },
    {
      "cell_type": "markdown",
      "source": [
        "Treinamento do modelo"
      ],
      "metadata": {
        "id": "_MinHHH9tYqw"
      }
    },
    {
      "cell_type": "code",
      "source": [
        "epochs = 5\n",
        "history = model.fit(X_train, y_train, epochs=epochs, validation_data=(X_val, y_val), verbose=2)"
      ],
      "metadata": {
        "id": "FqpBMmIvtZLC",
        "colab": {
          "base_uri": "https://localhost:8080/"
        },
        "outputId": "ec978686-01bc-447c-bf31-30fcb5318423"
      },
      "execution_count": 14,
      "outputs": [
        {
          "output_type": "stream",
          "name": "stdout",
          "text": [
            "Epoch 1/5\n",
            "72/72 - 11s - loss: 0.6944 - accuracy: 0.4983 - val_loss: 0.6933 - val_accuracy: 0.4965 - 11s/epoch - 154ms/step\n",
            "Epoch 2/5\n",
            "72/72 - 3s - loss: 0.6933 - accuracy: 0.4790 - val_loss: 0.6931 - val_accuracy: 0.5035 - 3s/epoch - 47ms/step\n",
            "Epoch 3/5\n",
            "72/72 - 3s - loss: 0.6932 - accuracy: 0.4991 - val_loss: 0.6931 - val_accuracy: 0.5035 - 3s/epoch - 36ms/step\n",
            "Epoch 4/5\n",
            "72/72 - 1s - loss: 0.6932 - accuracy: 0.4808 - val_loss: 0.6931 - val_accuracy: 0.5035 - 1s/epoch - 17ms/step\n",
            "Epoch 5/5\n",
            "72/72 - 1s - loss: 0.6932 - accuracy: 0.4834 - val_loss: 0.6931 - val_accuracy: 0.5035 - 1s/epoch - 17ms/step\n"
          ]
        }
      ]
    },
    {
      "cell_type": "markdown",
      "source": [
        "Plotando as curvas de loss"
      ],
      "metadata": {
        "id": "DQ8pN0mhva0-"
      }
    },
    {
      "cell_type": "code",
      "source": [
        "plt.figure(figsize=(8, 6))\n",
        "plt.plot(history.history['loss'], label='Training Loss')\n",
        "plt.plot(history.history['val_loss'], label='Validation Loss')\n",
        "plt.title('Training and Validation Losses')\n",
        "plt.xlabel('Epoch')\n",
        "plt.ylabel('Loss')\n",
        "plt.legend()\n",
        "plt.show()"
      ],
      "metadata": {
        "id": "cD12G6HjvcWW",
        "colab": {
          "base_uri": "https://localhost:8080/",
          "height": 564
        },
        "outputId": "c2c55978-3a01-4383-98a0-1bf55b7ab6e6"
      },
      "execution_count": 15,
      "outputs": [
        {
          "output_type": "display_data",
          "data": {
            "text/plain": [
              "<Figure size 800x600 with 1 Axes>"
            ],
            "image/png": "[encoded data removed]"
          },
          "metadata": {}
        }
      ]
    },
    {
      "cell_type": "markdown",
      "source": [
        "### Avaliação do modelo"
      ],
      "metadata": {
        "id": "j8al_ZDwvCkM"
      }
    },
    {
      "cell_type": "markdown",
      "source": [
        "Avaliar o modelo nos dados de teste\n"
      ],
      "metadata": {
        "id": "haXW7dZktdME"
      }
    },
    {
      "cell_type": "code",
      "source": [
        "loss, accuracy = model.evaluate(padded_sequences_test, y_test, verbose=2)\n",
        "print(f\"Perda nos dados de teste: {loss:.4f}\")\n",
        "print(f\"Acurácia nos dados de teste: {accuracy:.4f}\")"
      ],
      "metadata": {
        "id": "DKw6QWw5tg3q",
        "colab": {
          "base_uri": "https://localhost:8080/"
        },
        "outputId": "96b97431-3a8e-4685-f429-1ef2e5ea4a70"
      },
      "execution_count": 16,
      "outputs": [
        {
          "output_type": "stream",
          "name": "stdout",
          "text": [
            "23/23 - 0s - loss: 0.6931 - accuracy: 0.5000 - 65ms/epoch - 3ms/step\n",
            "Perda nos dados de teste: 0.6931\n",
            "Acurácia nos dados de teste: 0.5000\n"
          ]
        }
      ]
    },
    {
      "cell_type": "markdown",
      "source": [
        "Previsões do modelo"
      ],
      "metadata": {
        "id": "fGy3G0bouztD"
      }
    },
    {
      "cell_type": "code",
      "source": [
        "y_pred = (model.predict(padded_sequences_test) > 0.5).astype(\"int32\")"
      ],
      "metadata": {
        "id": "Z7Jh_pbItglh",
        "colab": {
          "base_uri": "https://localhost:8080/"
        },
        "outputId": "39b85047-4b7d-4885-f2e0-1d2ce6566ec7"
      },
      "execution_count": 18,
      "outputs": [
        {
          "output_type": "stream",
          "name": "stdout",
          "text": [
            "23/23 [==============================] - 0s 2ms/step\n"
          ]
        }
      ]
    },
    {
      "cell_type": "markdown",
      "source": [
        "Gerando o relatório de classificação"
      ],
      "metadata": {
        "id": "e-WZ9n8RvG-h"
      }
    },
    {
      "cell_type": "code",
      "source": [
        "report = classification_report(y_test, y_pred, target_names=encoder.classes_, output_dict=True)"
      ],
      "metadata": {
        "id": "tFY1TQbcvIJc",
        "colab": {
          "base_uri": "https://localhost:8080/"
        },
        "outputId": "e4ca5e1b-a156-41b3-8241-92e6768f57e6"
      },
      "execution_count": 19,
      "outputs": [
        {
          "output_type": "stream",
          "name": "stderr",
          "text": [
            "/usr/local/lib/python3.10/dist-packages/sklearn/metrics/_classification.py:1344: UndefinedMetricWarning: Precision and F-score are ill-defined and being set to 0.0 in labels with no predicted samples. Use `zero_division` parameter to control this behavior.\n",
            "  _warn_prf(average, modifier, msg_start, len(result))\n",
            "/usr/local/lib/python3.10/dist-packages/sklearn/metrics/_classification.py:1344: UndefinedMetricWarning: Precision and F-score are ill-defined and being set to 0.0 in labels with no predicted samples. Use `zero_division` parameter to control this behavior.\n",
            "  _warn_prf(average, modifier, msg_start, len(result))\n",
            "/usr/local/lib/python3.10/dist-packages/sklearn/metrics/_classification.py:1344: UndefinedMetricWarning: Precision and F-score are ill-defined and being set to 0.0 in labels with no predicted samples. Use `zero_division` parameter to control this behavior.\n",
            "  _warn_prf(average, modifier, msg_start, len(result))\n"
          ]
        }
      ]
    },
    {
      "cell_type": "markdown",
      "source": [
        "Plotando os resultados"
      ],
      "metadata": {
        "id": "HIBB9D-GvUS7"
      }
    },
    {
      "cell_type": "code",
      "source": [
        "print(\"Classificação Report:\")\n",
        "for label, metrics in report.items():\n",
        "    if label == 'accuracy':\n",
        "        continue\n",
        "    print(f\"Class: {label}\")\n",
        "    print(f\"\\tPrecision: {metrics['precision']}\")\n",
        "    print(f\"\\tRecall: {metrics['recall']}\")\n",
        "    print(f\"\\tF1-score: {metrics['f1-score']}\")\n",
        "print(f\"Macro Avg: {report['macro avg']}\")\n",
        "print(f\"Weighted Avg: {report['weighted avg']}\")"
      ],
      "metadata": {
        "id": "qvQsctddvVnT",
        "colab": {
          "base_uri": "https://localhost:8080/"
        },
        "outputId": "1f0e1067-dcb7-454a-f086-80ee8dd9616d"
      },
      "execution_count": 20,
      "outputs": [
        {
          "output_type": "stream",
          "name": "stdout",
          "text": [
            "Classificação Report:\n",
            "Class: 0\n",
            "\tPrecision: 0.5\n",
            "\tRecall: 1.0\n",
            "\tF1-score: 0.6666666666666666\n",
            "Class: 1\n",
            "\tPrecision: 0.0\n",
            "\tRecall: 0.0\n",
            "\tF1-score: 0.0\n",
            "Class: macro avg\n",
            "\tPrecision: 0.25\n",
            "\tRecall: 0.5\n",
            "\tF1-score: 0.3333333333333333\n",
            "Class: weighted avg\n",
            "\tPrecision: 0.25\n",
            "\tRecall: 0.5\n",
            "\tF1-score: 0.3333333333333333\n",
            "Macro Avg: {'precision': 0.25, 'recall': 0.5, 'f1-score': 0.3333333333333333, 'support': 716}\n",
            "Weighted Avg: {'precision': 0.25, 'recall': 0.5, 'f1-score': 0.3333333333333333, 'support': 716}\n"
          ]
        }
      ]
    },
    {
      "cell_type": "markdown",
      "source": [
        "Plotando a matriz de confusão"
      ],
      "metadata": {
        "id": "0cT3RoBivXcg"
      }
    },
    {
      "cell_type": "code",
      "source": [
        "cm = confusion_matrix(y_test, y_pred)\n",
        "plt.figure(figsize=(6, 6))\n",
        "sns.heatmap(cm, annot=True, fmt='d', cmap='Blues')\n",
        "plt.xlabel('Predicted')\n",
        "plt.ylabel('Actual')\n",
        "plt.title('Confusion Matrix')\n",
        "plt.show()"
      ],
      "metadata": {
        "id": "2H6rW_sjvZdx",
        "colab": {
          "base_uri": "https://localhost:8080/",
          "height": 564
        },
        "outputId": "30fa37dc-5d56-4a09-cfe1-d2402bc0c8ea"
      },
      "execution_count": 21,
      "outputs": [
        {
          "output_type": "display_data",
          "data": {
            "text/plain": [
              "<Figure size 600x600 with 2 Axes>"
            ],
            "image/png": "[encoded data removed]"
          },
          "metadata": {}
        }
      ]
    },
    {
      "cell_type": "markdown",
      "source": [
        "\\\\# Faça o mesmo processamento utilizando *Word2Vec* pré-treinado em inglês"
      ],
      "metadata": {
        "id": "F9c6RzO_v0Y3"
      }
    },
    {
      "cell_type": "code",
      "source": [
        "# ToDo: Siga como base o tutorial presente em https://czarrar.github.io/Gensim-Word2Vec/\n",
        "from gensim.models import KeyedVectors\n",
        "from tensorflow.keras.preprocessing.text import Tokenizer\n",
        "from tensorflow.keras.preprocessing.sequence import pad_sequences\n",
        "from gensim.models import Word2Vec\n",
        "from gensim.scripts.glove2word2vec import glove2word2vec\n",
        "#import umap.umap_ as umap\n",
        "import matplotlib.pyplot as plt\n",
        "\n",
        "glove2word2vec(\"/content/drive/MyDrive/datasets/glove.6B.100d.txt\", \"/content/drive/MyDrive/datasets/glove_model2.txt\")\n",
        "\n",
        "\n",
        "model = Word2Vec(size=100, min_count=1)\n",
        "model.build_vocab(sents)\n",
        "total_examples = model.corpus_count\n",
        "\n",
        "# Save the vocab of your dataset\n",
        "vocab = list(model.wv.vocab.keys())\n",
        "\n",
        "\n",
        "pretrained_path = \"/path/to/glove/glove_model2.txt\"\n",
        "model_2 = KeyedVectors.load_word2vec_format(pretrained_path, binary=False)\n",
        "\n",
        "# Add the pre-trained model vocabulary\n",
        "model.build_vocab([list(model_2.vocab.keys())], update=True)\n",
        "\n",
        "# Load the pre-trained models embeddings\n",
        "# note: if a word doesn't exist in the pre-trained vocabulary then it is left as is in the original model\n",
        "model.intersect_word2vec_format(pretrained_path, binary=False, lockf=1.0)\n",
        "\n",
        "model.train(sents3, total_examples=total_examples, epochs=model.epochs)\n",
        "\n",
        "word_embeddings = np.array([ model.wv[k] if k in model.wv else np.zeros(100) for k in vocab ])\n",
        "word_embeddings.shape # Should be len(vocab) by 100\n",
        "\n",
        "\n",
        "#from sklearn.preprocessing import StandardScaler\n",
        "\n",
        "#scaled_we = StandardScaler().fit_transform(word_embeddings)\n",
        "#embedding2d = reducer.fit_transform(scaled_we)\n",
        "\n",
        "reducer = umap.UMAP()\n",
        "embedding2d = reducer.fit_transform(word_embeddings)\n",
        "\n",
        "\n",
        "plt.scatter(\n",
        "    embedding2d[:, 0],\n",
        "    embedding2d[:, 1])"
      ],
      "metadata": {
        "id": "538Csc0xv5qo",
        "colab": {
          "base_uri": "https://localhost:8080/",
          "height": 466
        },
        "outputId": "3d3c1c91-275e-4ba5-bb80-569d3ee5d978"
      },
      "execution_count": 4,
      "outputs": [
        {
          "output_type": "stream",
          "name": "stderr",
          "text": [
            "<ipython-input-4-7aafe1e857ae>:10: DeprecationWarning: Call to deprecated `glove2word2vec` (KeyedVectors.load_word2vec_format(.., binary=False, no_header=True) loads GLoVE text vectors.).\n",
            "  glove2word2vec(\"/content/drive/MyDrive/datasets/glove.6B.100d.txt\", \"/content/drive/MyDrive/datasets/glove_model2.txt\")\n"
          ]
        },
        {
          "output_type": "error",
          "ename": "FileNotFoundError",
          "evalue": "[Errno 2] No such file or directory: '/content/drive/MyDrive/datasets/glove.6B.100d.txt'",
          "traceback": [
            "\u001b[0;31m---------------------------------------------------------------------------\u001b[0m",
            "\u001b[0;31mFileNotFoundError\u001b[0m                         Traceback (most recent call last)",
            "\u001b[0;32m<ipython-input-4-7aafe1e857ae>\u001b[0m in \u001b[0;36m<cell line: 10>\u001b[0;34m()\u001b[0m\n\u001b[1;32m      8\u001b[0m \u001b[0;32mimport\u001b[0m \u001b[0mmatplotlib\u001b[0m\u001b[0;34m.\u001b[0m\u001b[0mpyplot\u001b[0m \u001b[0;32mas\u001b[0m \u001b[0mplt\u001b[0m\u001b[0;34m\u001b[0m\u001b[0;34m\u001b[0m\u001b[0m\n\u001b[1;32m      9\u001b[0m \u001b[0;34m\u001b[0m\u001b[0m\n\u001b[0;32m---> 10\u001b[0;31m \u001b[0mglove2word2vec\u001b[0m\u001b[0;34m(\u001b[0m\u001b[0;34m\"/content/drive/MyDrive/datasets/glove.6B.100d.txt\"\u001b[0m\u001b[0;34m,\u001b[0m \u001b[0;34m\"/content/drive/MyDrive/datasets/glove_model2.txt\"\u001b[0m\u001b[0;34m)\u001b[0m\u001b[0;34m\u001b[0m\u001b[0;34m\u001b[0m\u001b[0m\n\u001b[0m\u001b[1;32m     11\u001b[0m \u001b[0;34m\u001b[0m\u001b[0m\n\u001b[1;32m     12\u001b[0m \u001b[0;34m\u001b[0m\u001b[0m\n",
            "\u001b[0;32m/usr/local/lib/python3.10/dist-packages/gensim/utils.py\u001b[0m in \u001b[0;36mnew_func1\u001b[0;34m(*args, **kwargs)\u001b[0m\n\u001b[1;32m   1520\u001b[0m                     \u001b[0mstacklevel\u001b[0m\u001b[0;34m=\u001b[0m\u001b[0;36m2\u001b[0m\u001b[0;34m\u001b[0m\u001b[0;34m\u001b[0m\u001b[0m\n\u001b[1;32m   1521\u001b[0m                 )\n\u001b[0;32m-> 1522\u001b[0;31m                 \u001b[0;32mreturn\u001b[0m \u001b[0mfunc\u001b[0m\u001b[0;34m(\u001b[0m\u001b[0;34m*\u001b[0m\u001b[0margs\u001b[0m\u001b[0;34m,\u001b[0m \u001b[0;34m**\u001b[0m\u001b[0mkwargs\u001b[0m\u001b[0;34m)\u001b[0m\u001b[0;34m\u001b[0m\u001b[0;34m\u001b[0m\u001b[0m\n\u001b[0m\u001b[1;32m   1523\u001b[0m \u001b[0;34m\u001b[0m\u001b[0m\n\u001b[1;32m   1524\u001b[0m             \u001b[0;32mreturn\u001b[0m \u001b[0mnew_func1\u001b[0m\u001b[0;34m\u001b[0m\u001b[0;34m\u001b[0m\u001b[0m\n",
            "\u001b[0;32m/usr/local/lib/python3.10/dist-packages/gensim/scripts/glove2word2vec.py\u001b[0m in \u001b[0;36mglove2word2vec\u001b[0;34m(glove_input_file, word2vec_output_file)\u001b[0m\n\u001b[1;32m    107\u001b[0m \u001b[0;34m\u001b[0m\u001b[0m\n\u001b[1;32m    108\u001b[0m     \"\"\"\n\u001b[0;32m--> 109\u001b[0;31m     \u001b[0mglovekv\u001b[0m \u001b[0;34m=\u001b[0m \u001b[0mKeyedVectors\u001b[0m\u001b[0;34m.\u001b[0m\u001b[0mload_word2vec_format\u001b[0m\u001b[0;34m(\u001b[0m\u001b[0mglove_input_file\u001b[0m\u001b[0;34m,\u001b[0m \u001b[0mbinary\u001b[0m\u001b[0;34m=\u001b[0m\u001b[0;32mFalse\u001b[0m\u001b[0;34m,\u001b[0m \u001b[0mno_header\u001b[0m\u001b[0;34m=\u001b[0m\u001b[0;32mTrue\u001b[0m\u001b[0;34m)\u001b[0m\u001b[0;34m\u001b[0m\u001b[0;34m\u001b[0m\u001b[0m\n\u001b[0m\u001b[1;32m    110\u001b[0m \u001b[0;34m\u001b[0m\u001b[0m\n\u001b[1;32m    111\u001b[0m     \u001b[0mnum_lines\u001b[0m\u001b[0;34m,\u001b[0m \u001b[0mnum_dims\u001b[0m \u001b[0;34m=\u001b[0m \u001b[0mlen\u001b[0m\u001b[0;34m(\u001b[0m\u001b[0mglovekv\u001b[0m\u001b[0;34m)\u001b[0m\u001b[0;34m,\u001b[0m \u001b[0mglovekv\u001b[0m\u001b[0;34m.\u001b[0m\u001b[0mvector_size\u001b[0m\u001b[0;34m\u001b[0m\u001b[0;34m\u001b[0m\u001b[0m\n",
            "\u001b[0;32m/usr/local/lib/python3.10/dist-packages/gensim/models/keyedvectors.py\u001b[0m in \u001b[0;36mload_word2vec_format\u001b[0;34m(cls, fname, fvocab, binary, encoding, unicode_errors, limit, datatype, no_header)\u001b[0m\n\u001b[1;32m   1717\u001b[0m \u001b[0;34m\u001b[0m\u001b[0m\n\u001b[1;32m   1718\u001b[0m         \"\"\"\n\u001b[0;32m-> 1719\u001b[0;31m         return _load_word2vec_format(\n\u001b[0m\u001b[1;32m   1720\u001b[0m             \u001b[0mcls\u001b[0m\u001b[0;34m,\u001b[0m \u001b[0mfname\u001b[0m\u001b[0;34m,\u001b[0m \u001b[0mfvocab\u001b[0m\u001b[0;34m=\u001b[0m\u001b[0mfvocab\u001b[0m\u001b[0;34m,\u001b[0m \u001b[0mbinary\u001b[0m\u001b[0;34m=\u001b[0m\u001b[0mbinary\u001b[0m\u001b[0;34m,\u001b[0m \u001b[0mencoding\u001b[0m\u001b[0;34m=\u001b[0m\u001b[0mencoding\u001b[0m\u001b[0;34m,\u001b[0m \u001b[0municode_errors\u001b[0m\u001b[0;34m=\u001b[0m\u001b[0municode_errors\u001b[0m\u001b[0;34m,\u001b[0m\u001b[0;34m\u001b[0m\u001b[0;34m\u001b[0m\u001b[0m\n\u001b[1;32m   1721\u001b[0m             \u001b[0mlimit\u001b[0m\u001b[0;34m=\u001b[0m\u001b[0mlimit\u001b[0m\u001b[0;34m,\u001b[0m \u001b[0mdatatype\u001b[0m\u001b[0;34m=\u001b[0m\u001b[0mdatatype\u001b[0m\u001b[0;34m,\u001b[0m \u001b[0mno_header\u001b[0m\u001b[0;34m=\u001b[0m\u001b[0mno_header\u001b[0m\u001b[0;34m,\u001b[0m\u001b[0;34m\u001b[0m\u001b[0;34m\u001b[0m\u001b[0m\n",
            "\u001b[0;32m/usr/local/lib/python3.10/dist-packages/gensim/models/keyedvectors.py\u001b[0m in \u001b[0;36m_load_word2vec_format\u001b[0;34m(cls, fname, fvocab, binary, encoding, unicode_errors, limit, datatype, no_header, binary_chunk_size)\u001b[0m\n\u001b[1;32m   2046\u001b[0m \u001b[0;34m\u001b[0m\u001b[0m\n\u001b[1;32m   2047\u001b[0m     \u001b[0mlogger\u001b[0m\u001b[0;34m.\u001b[0m\u001b[0minfo\u001b[0m\u001b[0;34m(\u001b[0m\u001b[0;34m\"loading projection weights from %s\"\u001b[0m\u001b[0;34m,\u001b[0m \u001b[0mfname\u001b[0m\u001b[0;34m)\u001b[0m\u001b[0;34m\u001b[0m\u001b[0;34m\u001b[0m\u001b[0m\n\u001b[0;32m-> 2048\u001b[0;31m     \u001b[0;32mwith\u001b[0m \u001b[0mutils\u001b[0m\u001b[0;34m.\u001b[0m\u001b[0mopen\u001b[0m\u001b[0;34m(\u001b[0m\u001b[0mfname\u001b[0m\u001b[0;34m,\u001b[0m \u001b[0;34m'rb'\u001b[0m\u001b[0;34m)\u001b[0m \u001b[0;32mas\u001b[0m \u001b[0mfin\u001b[0m\u001b[0;34m:\u001b[0m\u001b[0;34m\u001b[0m\u001b[0;34m\u001b[0m\u001b[0m\n\u001b[0m\u001b[1;32m   2049\u001b[0m         \u001b[0;32mif\u001b[0m \u001b[0mno_header\u001b[0m\u001b[0;34m:\u001b[0m\u001b[0;34m\u001b[0m\u001b[0;34m\u001b[0m\u001b[0m\n\u001b[1;32m   2050\u001b[0m             \u001b[0;31m# deduce both vocab_size & vector_size from 1st pass over file\u001b[0m\u001b[0;34m\u001b[0m\u001b[0;34m\u001b[0m\u001b[0m\n",
            "\u001b[0;32m/usr/local/lib/python3.10/dist-packages/smart_open/smart_open_lib.py\u001b[0m in \u001b[0;36mopen\u001b[0;34m(uri, mode, buffering, encoding, errors, newline, closefd, opener, compression, transport_params)\u001b[0m\n\u001b[1;32m    175\u001b[0m         \u001b[0mtransport_params\u001b[0m \u001b[0;34m=\u001b[0m \u001b[0;34m{\u001b[0m\u001b[0;34m}\u001b[0m\u001b[0;34m\u001b[0m\u001b[0;34m\u001b[0m\u001b[0m\n\u001b[1;32m    176\u001b[0m \u001b[0;34m\u001b[0m\u001b[0m\n\u001b[0;32m--> 177\u001b[0;31m     fobj = _shortcut_open(\n\u001b[0m\u001b[1;32m    178\u001b[0m         \u001b[0muri\u001b[0m\u001b[0;34m,\u001b[0m\u001b[0;34m\u001b[0m\u001b[0;34m\u001b[0m\u001b[0m\n\u001b[1;32m    179\u001b[0m         \u001b[0mmode\u001b[0m\u001b[0;34m,\u001b[0m\u001b[0;34m\u001b[0m\u001b[0;34m\u001b[0m\u001b[0m\n",
            "\u001b[0;32m/usr/local/lib/python3.10/dist-packages/smart_open/smart_open_lib.py\u001b[0m in \u001b[0;36m_shortcut_open\u001b[0;34m(uri, mode, compression, buffering, encoding, errors, newline)\u001b[0m\n\u001b[1;32m    361\u001b[0m         \u001b[0mopen_kwargs\u001b[0m\u001b[0;34m[\u001b[0m\u001b[0;34m'errors'\u001b[0m\u001b[0;34m]\u001b[0m \u001b[0;34m=\u001b[0m \u001b[0merrors\u001b[0m\u001b[0;34m\u001b[0m\u001b[0;34m\u001b[0m\u001b[0m\n\u001b[1;32m    362\u001b[0m \u001b[0;34m\u001b[0m\u001b[0m\n\u001b[0;32m--> 363\u001b[0;31m     \u001b[0;32mreturn\u001b[0m \u001b[0m_builtin_open\u001b[0m\u001b[0;34m(\u001b[0m\u001b[0mlocal_path\u001b[0m\u001b[0;34m,\u001b[0m \u001b[0mmode\u001b[0m\u001b[0;34m,\u001b[0m \u001b[0mbuffering\u001b[0m\u001b[0;34m=\u001b[0m\u001b[0mbuffering\u001b[0m\u001b[0;34m,\u001b[0m \u001b[0;34m**\u001b[0m\u001b[0mopen_kwargs\u001b[0m\u001b[0;34m)\u001b[0m\u001b[0;34m\u001b[0m\u001b[0;34m\u001b[0m\u001b[0m\n\u001b[0m\u001b[1;32m    364\u001b[0m \u001b[0;34m\u001b[0m\u001b[0m\n\u001b[1;32m    365\u001b[0m \u001b[0;34m\u001b[0m\u001b[0m\n",
            "\u001b[0;31mFileNotFoundError\u001b[0m: [Errno 2] No such file or directory: '/content/drive/MyDrive/datasets/glove.6B.100d.txt'"
          ]
        }
      ]
    },
    {
      "cell_type": "markdown",
      "source": [
        "# Faça o mesmo processamento utilizando *Word2Vec* pré-treinado a partir do português"
      ],
      "metadata": {
        "id": "o9U_kfeXv8k1"
      }
    },
    {
      "cell_type": "code",
      "source": [
        "# ToDo: Siga o mesmo tutorial anterior, mas com o Word2Vec para pt: https://github.com/rdenadai/WordEmbeddingPortugues"
      ],
      "metadata": {
        "id": "hUFVix7OwCfw"
      },
      "execution_count": null,
      "outputs": []
    },
    {
      "cell_type": "markdown",
      "source": [
        "# Faça o mesmo processamento utilizando *BERT* de inglês"
      ],
      "metadata": {
        "id": "xfT37qLuwDH7"
      }
    },
    {
      "cell_type": "code",
      "source": [
        "# ToDo: Siga de base o seguinte tutorial https://huggingface.co/docs/transformers/training"
      ],
      "metadata": {
        "id": "QaGz7FpTwK7M"
      },
      "execution_count": null,
      "outputs": []
    },
    {
      "cell_type": "markdown",
      "source": [
        "# Faça o mesmo processamento utilizando *BERT* de português"
      ],
      "metadata": {
        "id": "J2937LJzwMIc"
      }
    },
    {
      "cell_type": "code",
      "source": [
        "# ToDo: Siga o mesmo tutorial anterior, mas com o BERT para pt: https://huggingface.co/neuralmind/bert-base-portuguese-cased"
      ],
      "metadata": {
        "id": "PQFUMJnrwQo0"
      },
      "execution_count": null,
      "outputs": []
    },
    {
      "cell_type": "markdown",
      "source": [
        "# *ToDo*: O que você pode analisar dos modelos treinados?"
      ],
      "metadata": {
        "id": "TL8OXiSnwTSJ"
      }
    },
    {
      "cell_type": "markdown",
      "source": [
        "```\n",
        "  Coloque a sua resposta aqui\n",
        "```"
      ],
      "metadata": {
        "id": "OOLY1EgdwWmX"
      }
    }
  ]
}